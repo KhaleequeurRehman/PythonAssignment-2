{
 "cells": [
  {
   "cell_type": "code",
   "execution_count": 1,
   "metadata": {},
   "outputs": [
    {
     "name": "stdout",
     "output_type": "stream",
     "text": [
      "\n",
      "   Program1  \n",
      "x=============x\n",
      "Enter your English subject marks : 45\n",
      "Enter your Math subject marks : 45\n",
      "Enter your Chemistry subject marks : 45\n",
      "Enter your Physics subject marks : 45\n",
      "Enter your Urdu subject marks : 45\n",
      "\n",
      "   MARKSHEET  \n",
      "x=============x\n",
      " You got D grade\n"
     ]
    }
   ],
   "source": [
    "print(\"\\n   Program1  \")\n",
    "print(\"x=============x\")\n",
    "\n",
    "english = int(input(\"Enter your English subject marks : \"))\n",
    "\n",
    "math = int(input(\"Enter your Math subject marks : \"))\n",
    "\n",
    "chemistry = int(input(\"Enter your Chemistry subject marks : \"))\n",
    "\n",
    "physics = int(input(\"Enter your Physics subject marks : \"))\n",
    "\n",
    "urdu = int(input(\"Enter your Urdu subject marks : \"))\n",
    "\n",
    "total_marks = 500\n",
    "obtained_marks = english+math+chemistry+urdu+physics\n",
    "percentage = (obtained_marks*100)/total_marks\n",
    "\n",
    "print(\"\\n   MARKSHEET  \")\n",
    "print(\"x=============x\")\n",
    "\n",
    "if percentage>=90 and percentage<100:\n",
    "    print(\" You got 1st position grade\")\n",
    "elif percentage>=80 and percentage<90:\n",
    "    print(\" You got A1 grade\")\n",
    "elif percentage>=70 and percentage<80:\n",
    "    print(\" You got A grade\")\n",
    "elif percentage>=60 and percentage<70:\n",
    "    print(\" You got b grade\")\n",
    "elif percentage>=50 and percentage<60:\n",
    "    print(\" You got c grade\")\n",
    "elif percentage>=40 and percentage<50:\n",
    "    print(\" You got D grade\")\n",
    "else:\n",
    "    print(\"You are Fail\")\n",
    "\n",
    "    "
   ]
  },
  {
   "cell_type": "code",
   "execution_count": 2,
   "metadata": {
    "scrolled": true
   },
   "outputs": [
    {
     "name": "stdout",
     "output_type": "stream",
     "text": [
      "  program2\n",
      "x==========x\n",
      "\n",
      "Enter a number : 8\n",
      "8 is Even\n"
     ]
    }
   ],
   "source": [
    "print(\"  program2\")\n",
    "print(\"x==========x\\n\")\n",
    "number = int(input(\"Enter a number : \"))\n",
    "if number%2 == 0:\n",
    "    print(f\"{number} is Even\")\n",
    "else:\n",
    "    print(f\"{number} is Odd\")\n"
   ]
  },
  {
   "cell_type": "code",
   "execution_count": 3,
   "metadata": {},
   "outputs": [
    {
     "name": "stdout",
     "output_type": "stream",
     "text": [
      "  program3\n",
      "x==========x\n",
      "\n",
      "5 is a length of 'Menu list' \n"
     ]
    }
   ],
   "source": [
    "print(\"  program3\")\n",
    "print(\"x==========x\\n\")\n",
    "\n",
    "menu = {\"chicken burger\",\"zinger burger\",\"chicken biryani\",\"pepsi\",\"icecream\"}\n",
    "\n",
    "print(f\"{len(menu)} is a length of 'Menu list' \")"
   ]
  },
  {
   "cell_type": "code",
   "execution_count": 4,
   "metadata": {},
   "outputs": [
    {
     "name": "stdout",
     "output_type": "stream",
     "text": [
      "  program4\n",
      "x==========x\n",
      "\n",
      "10 is the greatest number in list \n"
     ]
    }
   ],
   "source": [
    "print(\"  program4\")\n",
    "print(\"x==========x\\n\")\n",
    "\n",
    "num =[2,4,6,8,10]\n",
    "\n",
    "if num[0]>num[1]and num[0]> num[2]and num[0]> num[3] and num[0]>num[4]:\n",
    "    print(f\"{num[0]} is the greatest number in list \")\n",
    "elif num[1]>num[0]and num[1]>num[2]and num[1]>num[3] and num[1]>num[4]:\n",
    "    print(f\"{num[1]} is the greatest number in list \")\n",
    "elif num[2]>num[1]and num[2]> num[0]and num[2]> num[3] and num[2]>num[4]:\n",
    "    print(f\"{num[2]} is the greatest number in list \")\n",
    "elif num[3]>num[1]and num[3]> num[2]and num[3]> num[0] and num[3]>num[4]:\n",
    "    print(f\"{num[3]} is the greatest number in list \")\n",
    "elif num[4]>num[1]and num[4]> num[2]and num[4]> num[3] and num[4]>num[0]:\n",
    "    print(f\"{num[4]} is the greatest number in list \")\n",
    "else:\n",
    "    print(\" All numbers are equal number in list \")"
   ]
  },
  {
   "cell_type": "code",
   "execution_count": 5,
   "metadata": {},
   "outputs": [
    {
     "name": "stdout",
     "output_type": "stream",
     "text": [
      "  program5\n",
      "x==========x\n",
      "\n",
      "Sum of all numeric items in list is :30\n"
     ]
    }
   ],
   "source": [
    "print(\"  program5\")\n",
    "print(\"x==========x\\n\")\n",
    "\n",
    "num_list =[2,4,6,8,10]\n",
    "\n",
    "print(f\"Sum of all numeric items in list is :{num_list[0]+num_list[1]+num_list[2]+num_list[3]+num_list[4]}\")"
   ]
  },
  {
   "cell_type": "code",
   "execution_count": 6,
   "metadata": {},
   "outputs": [
    {
     "name": "stdout",
     "output_type": "stream",
     "text": [
      "  program6\n",
      "x==========x\n",
      "\n",
      "Welcome to the List Less Than Ten program..\n",
      "\n",
      "Enter number as a list\n",
      "1,1,1,12,2,2222,2,2,2,2,2,4,5,3,2,4,4,4,4,3,3,3,3\n",
      "Numbers those are less than five : [1, 1, 1, 2, 2, 2, 2, 2, 2, 4, 3, 2, 4, 4, 4, 4, 3, 3, 3, 3]\n"
     ]
    }
   ],
   "source": [
    "print(\"  program6\")\n",
    "print(\"x==========x\\n\")\n",
    "\n",
    "print(\"Welcome to the List Less Than Ten program..\")\n",
    "print(\"\\nEnter number as a list\")\n",
    "a=[int(i) for i in input().split(\",\")]\n",
    "b=[int(j) for j in a if j<5]\n",
    "print(f\"Numbers those are less than five : {b}\")\n"
   ]
  },
  {
   "cell_type": "code",
   "execution_count": null,
   "metadata": {},
   "outputs": [],
   "source": []
  }
 ],
 "metadata": {
  "kernelspec": {
   "display_name": "Python 3",
   "language": "python",
   "name": "python3"
  },
  "language_info": {
   "codemirror_mode": {
    "name": "ipython",
    "version": 3
   },
   "file_extension": ".py",
   "mimetype": "text/x-python",
   "name": "python",
   "nbconvert_exporter": "python",
   "pygments_lexer": "ipython3",
   "version": "3.7.4"
  }
 },
 "nbformat": 4,
 "nbformat_minor": 2
}
